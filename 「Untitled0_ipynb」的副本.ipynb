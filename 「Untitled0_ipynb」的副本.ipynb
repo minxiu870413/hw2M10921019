{
  "nbformat": 4,
  "nbformat_minor": 0,
  "metadata": {
    "colab": {
      "name": "「Untitled0.ipynb」的副本",
      "provenance": [],
      "include_colab_link": true
    },
    "kernelspec": {
      "name": "python3",
      "display_name": "Python 3"
    }
  },
  "cells": [
    {
      "cell_type": "markdown",
      "metadata": {
        "id": "view-in-github",
        "colab_type": "text"
      },
      "source": [
        "<a href=\"https://colab.research.google.com/github/minxiu870413/hw2M10921019/blob/main/%E3%80%8CUntitled0_ipynb%E3%80%8D%E7%9A%84%E5%89%AF%E6%9C%AC.ipynb\" target=\"_parent\"><img src=\"https://colab.research.google.com/assets/colab-badge.svg\" alt=\"Open In Colab\"/></a>"
      ]
    },
    {
      "cell_type": "code",
      "metadata": {
        "id": "J4ZlwjqfPAVj",
        "colab": {
          "base_uri": "https://localhost:8080/"
        },
        "outputId": "328cf78f-088e-40bc-fd64-4dfbe2f9848c"
      },
      "source": [
        "# 下載 file_id 為 \"1ktkXrA7sxCpvBbubaPcbRH5CZN0NIX8x\" 的檔案，並將它命名為 winequality-red.csv\n",
        "!gdown --id '1ktkXrA7sxCpvBbubaPcbRH5CZN0NIX8x' --output datasets\n",
        "# 列出目前目錄下所有的檔案\n",
        "!ls"
      ],
      "execution_count": 1,
      "outputs": [
        {
          "output_type": "stream",
          "text": [
            "Downloading...\n",
            "From: https://drive.google.com/uc?id=1ktkXrA7sxCpvBbubaPcbRH5CZN0NIX8x\n",
            "To: /content/datasets\n",
            "\r  0% 0.00/85.7k [00:00<?, ?B/s]\r100% 85.7k/85.7k [00:00<00:00, 32.6MB/s]\n",
            "datasets  sample_data\n"
          ],
          "name": "stdout"
        }
      ]
    },
    {
      "cell_type": "code",
      "metadata": {
        "id": "AYWXZHW6RpKZ",
        "colab": {
          "base_uri": "https://localhost:8080/",
          "height": 204
        },
        "outputId": "c2a47a56-061e-447b-e6ff-ed50fca62928"
      },
      "source": [
        "import pandas as pd\n",
        "\n",
        "import numpy as np\n",
        "df = pd.read_csv('datasets')\n",
        "df.head()\n"
      ],
      "execution_count": 2,
      "outputs": [
        {
          "output_type": "execute_result",
          "data": {
            "text/html": [
              "<div>\n",
              "<style scoped>\n",
              "    .dataframe tbody tr th:only-of-type {\n",
              "        vertical-align: middle;\n",
              "    }\n",
              "\n",
              "    .dataframe tbody tr th {\n",
              "        vertical-align: top;\n",
              "    }\n",
              "\n",
              "    .dataframe thead th {\n",
              "        text-align: right;\n",
              "    }\n",
              "</style>\n",
              "<table border=\"1\" class=\"dataframe\">\n",
              "  <thead>\n",
              "    <tr style=\"text-align: right;\">\n",
              "      <th></th>\n",
              "      <th>fixed acidity</th>\n",
              "      <th>volatile acidity</th>\n",
              "      <th>citric acid</th>\n",
              "      <th>residual sugar</th>\n",
              "      <th>chlorides</th>\n",
              "      <th>free sulfur dioxide</th>\n",
              "      <th>total sulfur dioxide</th>\n",
              "      <th>density</th>\n",
              "      <th>pH</th>\n",
              "      <th>sulphates</th>\n",
              "      <th>alcohol</th>\n",
              "      <th>quality</th>\n",
              "    </tr>\n",
              "  </thead>\n",
              "  <tbody>\n",
              "    <tr>\n",
              "      <th>0</th>\n",
              "      <td>7.4</td>\n",
              "      <td>0.70</td>\n",
              "      <td>0.00</td>\n",
              "      <td>1.9</td>\n",
              "      <td>0.076</td>\n",
              "      <td>11.0</td>\n",
              "      <td>34.0</td>\n",
              "      <td>0.9978</td>\n",
              "      <td>3.51</td>\n",
              "      <td>0.56</td>\n",
              "      <td>9.4</td>\n",
              "      <td>5</td>\n",
              "    </tr>\n",
              "    <tr>\n",
              "      <th>1</th>\n",
              "      <td>7.8</td>\n",
              "      <td>0.88</td>\n",
              "      <td>0.00</td>\n",
              "      <td>2.6</td>\n",
              "      <td>0.098</td>\n",
              "      <td>25.0</td>\n",
              "      <td>67.0</td>\n",
              "      <td>0.9968</td>\n",
              "      <td>3.20</td>\n",
              "      <td>0.68</td>\n",
              "      <td>9.8</td>\n",
              "      <td>5</td>\n",
              "    </tr>\n",
              "    <tr>\n",
              "      <th>2</th>\n",
              "      <td>7.8</td>\n",
              "      <td>0.76</td>\n",
              "      <td>0.04</td>\n",
              "      <td>2.3</td>\n",
              "      <td>0.092</td>\n",
              "      <td>15.0</td>\n",
              "      <td>54.0</td>\n",
              "      <td>0.9970</td>\n",
              "      <td>3.26</td>\n",
              "      <td>0.65</td>\n",
              "      <td>9.8</td>\n",
              "      <td>5</td>\n",
              "    </tr>\n",
              "    <tr>\n",
              "      <th>3</th>\n",
              "      <td>11.2</td>\n",
              "      <td>0.28</td>\n",
              "      <td>0.56</td>\n",
              "      <td>1.9</td>\n",
              "      <td>0.075</td>\n",
              "      <td>17.0</td>\n",
              "      <td>60.0</td>\n",
              "      <td>0.9980</td>\n",
              "      <td>3.16</td>\n",
              "      <td>0.58</td>\n",
              "      <td>9.8</td>\n",
              "      <td>6</td>\n",
              "    </tr>\n",
              "    <tr>\n",
              "      <th>4</th>\n",
              "      <td>7.4</td>\n",
              "      <td>0.70</td>\n",
              "      <td>0.00</td>\n",
              "      <td>1.9</td>\n",
              "      <td>0.076</td>\n",
              "      <td>11.0</td>\n",
              "      <td>34.0</td>\n",
              "      <td>0.9978</td>\n",
              "      <td>3.51</td>\n",
              "      <td>0.56</td>\n",
              "      <td>9.4</td>\n",
              "      <td>5</td>\n",
              "    </tr>\n",
              "  </tbody>\n",
              "</table>\n",
              "</div>"
            ],
            "text/plain": [
              "   fixed acidity  volatile acidity  citric acid  ...  sulphates  alcohol  quality\n",
              "0            7.4              0.70         0.00  ...       0.56      9.4        5\n",
              "1            7.8              0.88         0.00  ...       0.68      9.8        5\n",
              "2            7.8              0.76         0.04  ...       0.65      9.8        5\n",
              "3           11.2              0.28         0.56  ...       0.58      9.8        6\n",
              "4            7.4              0.70         0.00  ...       0.56      9.4        5\n",
              "\n",
              "[5 rows x 12 columns]"
            ]
          },
          "metadata": {
            "tags": []
          },
          "execution_count": 2
        }
      ]
    },
    {
      "cell_type": "code",
      "metadata": {
        "id": "8s8NOCkOQVn9"
      },
      "source": [
        "#!ls\n",
        "\n",
        "from sklearn.model_selection import train_test_split\n",
        "import keras\n",
        "import keras.utils\n",
        "from keras import utils as np_utils\n",
        "from keras.utils.np_utils import to_categorical\n",
        "y=df['quality']\n",
        "x=df.drop('quality',axis=1)\n",
        "\n",
        "x_train,x_test,y_train,y_test = train_test_split\\\n",
        "(x,y,test_size=0.2)\n",
        "x_train_normalize=x_train/255  #標準化\n",
        "x_test_normalize=x_test/255\n",
        "y_train_onehot = np_utils.to_categorical(y_train)  #one_hot轉換\n",
        "y_test_onehot = np_utils.to_categorical(y_test)\n"
      ],
      "execution_count": 3,
      "outputs": []
    },
    {
      "cell_type": "code",
      "metadata": {
        "id": "VF3puvMCUDdy",
        "colab": {
          "base_uri": "https://localhost:8080/"
        },
        "outputId": "1ddcab6a-cf8d-469a-c3d9-fbb21272526b"
      },
      "source": [
        "arr=df\n",
        "print(arr.ndim)\n",
        "print(arr.shape)\n",
        "print(arr.dtypes)\n"
      ],
      "execution_count": 4,
      "outputs": [
        {
          "output_type": "stream",
          "text": [
            "2\n",
            "(1599, 12)\n",
            "fixed acidity           float64\n",
            "volatile acidity        float64\n",
            "citric acid             float64\n",
            "residual sugar          float64\n",
            "chlorides               float64\n",
            "free sulfur dioxide     float64\n",
            "total sulfur dioxide    float64\n",
            "density                 float64\n",
            "pH                      float64\n",
            "sulphates               float64\n",
            "alcohol                 float64\n",
            "quality                   int64\n",
            "dtype: object\n"
          ],
          "name": "stdout"
        }
      ]
    },
    {
      "cell_type": "code",
      "metadata": {
        "id": "xFpy1TumWY5G",
        "colab": {
          "base_uri": "https://localhost:8080/",
          "height": 419
        },
        "outputId": "2706b6a4-539f-4735-ecff-2caa27da154e"
      },
      "source": [
        "x_train1D=np.asarray(x_train_normalize).astype('float32')\n",
        "x_test1D=np.asarray(x_test_normalize).astype('float32')\n",
        "y_train1D=np.asarray(y_train_onehot).astype('float32')\n",
        "y_test1D=np.asarray(y_test_onehot).astype('float32')\n",
        "array=x_train\n",
        "array"
      ],
      "execution_count": 5,
      "outputs": [
        {
          "output_type": "execute_result",
          "data": {
            "text/html": [
              "<div>\n",
              "<style scoped>\n",
              "    .dataframe tbody tr th:only-of-type {\n",
              "        vertical-align: middle;\n",
              "    }\n",
              "\n",
              "    .dataframe tbody tr th {\n",
              "        vertical-align: top;\n",
              "    }\n",
              "\n",
              "    .dataframe thead th {\n",
              "        text-align: right;\n",
              "    }\n",
              "</style>\n",
              "<table border=\"1\" class=\"dataframe\">\n",
              "  <thead>\n",
              "    <tr style=\"text-align: right;\">\n",
              "      <th></th>\n",
              "      <th>fixed acidity</th>\n",
              "      <th>volatile acidity</th>\n",
              "      <th>citric acid</th>\n",
              "      <th>residual sugar</th>\n",
              "      <th>chlorides</th>\n",
              "      <th>free sulfur dioxide</th>\n",
              "      <th>total sulfur dioxide</th>\n",
              "      <th>density</th>\n",
              "      <th>pH</th>\n",
              "      <th>sulphates</th>\n",
              "      <th>alcohol</th>\n",
              "    </tr>\n",
              "  </thead>\n",
              "  <tbody>\n",
              "    <tr>\n",
              "      <th>1023</th>\n",
              "      <td>8.2</td>\n",
              "      <td>0.320</td>\n",
              "      <td>0.42</td>\n",
              "      <td>2.3</td>\n",
              "      <td>0.098</td>\n",
              "      <td>3.0</td>\n",
              "      <td>9.0</td>\n",
              "      <td>0.99506</td>\n",
              "      <td>3.27</td>\n",
              "      <td>0.55</td>\n",
              "      <td>12.3</td>\n",
              "    </tr>\n",
              "    <tr>\n",
              "      <th>930</th>\n",
              "      <td>6.6</td>\n",
              "      <td>0.610</td>\n",
              "      <td>0.01</td>\n",
              "      <td>1.9</td>\n",
              "      <td>0.080</td>\n",
              "      <td>8.0</td>\n",
              "      <td>25.0</td>\n",
              "      <td>0.99746</td>\n",
              "      <td>3.69</td>\n",
              "      <td>0.73</td>\n",
              "      <td>10.5</td>\n",
              "    </tr>\n",
              "    <tr>\n",
              "      <th>1167</th>\n",
              "      <td>8.2</td>\n",
              "      <td>0.330</td>\n",
              "      <td>0.39</td>\n",
              "      <td>2.5</td>\n",
              "      <td>0.074</td>\n",
              "      <td>29.0</td>\n",
              "      <td>48.0</td>\n",
              "      <td>0.99528</td>\n",
              "      <td>3.32</td>\n",
              "      <td>0.88</td>\n",
              "      <td>12.4</td>\n",
              "    </tr>\n",
              "    <tr>\n",
              "      <th>723</th>\n",
              "      <td>7.1</td>\n",
              "      <td>0.310</td>\n",
              "      <td>0.30</td>\n",
              "      <td>2.2</td>\n",
              "      <td>0.053</td>\n",
              "      <td>36.0</td>\n",
              "      <td>127.0</td>\n",
              "      <td>0.99650</td>\n",
              "      <td>2.94</td>\n",
              "      <td>1.62</td>\n",
              "      <td>9.5</td>\n",
              "    </tr>\n",
              "    <tr>\n",
              "      <th>1477</th>\n",
              "      <td>5.3</td>\n",
              "      <td>0.470</td>\n",
              "      <td>0.11</td>\n",
              "      <td>2.2</td>\n",
              "      <td>0.048</td>\n",
              "      <td>16.0</td>\n",
              "      <td>89.0</td>\n",
              "      <td>0.99182</td>\n",
              "      <td>3.54</td>\n",
              "      <td>0.88</td>\n",
              "      <td>13.6</td>\n",
              "    </tr>\n",
              "    <tr>\n",
              "      <th>...</th>\n",
              "      <td>...</td>\n",
              "      <td>...</td>\n",
              "      <td>...</td>\n",
              "      <td>...</td>\n",
              "      <td>...</td>\n",
              "      <td>...</td>\n",
              "      <td>...</td>\n",
              "      <td>...</td>\n",
              "      <td>...</td>\n",
              "      <td>...</td>\n",
              "      <td>...</td>\n",
              "    </tr>\n",
              "    <tr>\n",
              "      <th>348</th>\n",
              "      <td>9.6</td>\n",
              "      <td>0.560</td>\n",
              "      <td>0.31</td>\n",
              "      <td>2.8</td>\n",
              "      <td>0.089</td>\n",
              "      <td>15.0</td>\n",
              "      <td>46.0</td>\n",
              "      <td>0.99790</td>\n",
              "      <td>3.11</td>\n",
              "      <td>0.92</td>\n",
              "      <td>10.0</td>\n",
              "    </tr>\n",
              "    <tr>\n",
              "      <th>903</th>\n",
              "      <td>6.8</td>\n",
              "      <td>0.590</td>\n",
              "      <td>0.06</td>\n",
              "      <td>6.0</td>\n",
              "      <td>0.060</td>\n",
              "      <td>11.0</td>\n",
              "      <td>18.0</td>\n",
              "      <td>0.99620</td>\n",
              "      <td>3.41</td>\n",
              "      <td>0.59</td>\n",
              "      <td>10.8</td>\n",
              "    </tr>\n",
              "    <tr>\n",
              "      <th>1005</th>\n",
              "      <td>6.8</td>\n",
              "      <td>0.360</td>\n",
              "      <td>0.32</td>\n",
              "      <td>1.8</td>\n",
              "      <td>0.067</td>\n",
              "      <td>4.0</td>\n",
              "      <td>8.0</td>\n",
              "      <td>0.99280</td>\n",
              "      <td>3.36</td>\n",
              "      <td>0.55</td>\n",
              "      <td>12.8</td>\n",
              "    </tr>\n",
              "    <tr>\n",
              "      <th>1027</th>\n",
              "      <td>6.4</td>\n",
              "      <td>0.795</td>\n",
              "      <td>0.00</td>\n",
              "      <td>2.2</td>\n",
              "      <td>0.065</td>\n",
              "      <td>28.0</td>\n",
              "      <td>52.0</td>\n",
              "      <td>0.99378</td>\n",
              "      <td>3.49</td>\n",
              "      <td>0.52</td>\n",
              "      <td>11.6</td>\n",
              "    </tr>\n",
              "    <tr>\n",
              "      <th>162</th>\n",
              "      <td>7.8</td>\n",
              "      <td>0.530</td>\n",
              "      <td>0.04</td>\n",
              "      <td>1.7</td>\n",
              "      <td>0.076</td>\n",
              "      <td>17.0</td>\n",
              "      <td>31.0</td>\n",
              "      <td>0.99640</td>\n",
              "      <td>3.33</td>\n",
              "      <td>0.56</td>\n",
              "      <td>10.0</td>\n",
              "    </tr>\n",
              "  </tbody>\n",
              "</table>\n",
              "<p>1279 rows × 11 columns</p>\n",
              "</div>"
            ],
            "text/plain": [
              "      fixed acidity  volatile acidity  citric acid  ...    pH  sulphates  alcohol\n",
              "1023            8.2             0.320         0.42  ...  3.27       0.55     12.3\n",
              "930             6.6             0.610         0.01  ...  3.69       0.73     10.5\n",
              "1167            8.2             0.330         0.39  ...  3.32       0.88     12.4\n",
              "723             7.1             0.310         0.30  ...  2.94       1.62      9.5\n",
              "1477            5.3             0.470         0.11  ...  3.54       0.88     13.6\n",
              "...             ...               ...          ...  ...   ...        ...      ...\n",
              "348             9.6             0.560         0.31  ...  3.11       0.92     10.0\n",
              "903             6.8             0.590         0.06  ...  3.41       0.59     10.8\n",
              "1005            6.8             0.360         0.32  ...  3.36       0.55     12.8\n",
              "1027            6.4             0.795         0.00  ...  3.49       0.52     11.6\n",
              "162             7.8             0.530         0.04  ...  3.33       0.56     10.0\n",
              "\n",
              "[1279 rows x 11 columns]"
            ]
          },
          "metadata": {
            "tags": []
          },
          "execution_count": 5
        }
      ]
    },
    {
      "cell_type": "code",
      "metadata": {
        "id": "nu6HvVYUHn3l"
      },
      "source": [
        "from keras.models import Sequential #在使用前需要先提前導入這個函數\n",
        "model = Sequential()\n",
        "from keras.layers import Dense\n",
        "\"\"\"\n",
        "    建立輸入層和第一層隱蔽層\n",
        "    \n",
        "    參數：\n",
        "        units - 隱蔽層神經元個數\n",
        "        input_dim - 輸入層神經元個數\n",
        "        kernel_initializer - 使用normal distribution正態分佈的隨機數來初始化權重和方差\n",
        "        activation - 定義激活函數\n",
        "\"\"\"\n",
        "model.add(Dense(units = 224,  \n",
        "                input_dim = 11,  \n",
        "                kernel_initializer = 'normal',  \n",
        "                activation = 'relu'))  "
      ],
      "execution_count": 6,
      "outputs": []
    },
    {
      "cell_type": "code",
      "metadata": {
        "id": "oxkzMZ67Tcbr"
      },
      "source": [
        "from keras.layers import Dropout\n",
        "model.add(Dropout(0.5)) #隨機消除50%的神經單元"
      ],
      "execution_count": 7,
      "outputs": []
    },
    {
      "cell_type": "code",
      "metadata": {
        "id": "2VB6AExTTgOq"
      },
      "source": [
        "\"\"\"\n",
        "    建立輸出層\n",
        "    \n",
        "    參數：\n",
        "        units - 輸出層神經元個數\n",
        "        kernel_initializer - 使用normal distribution正態分佈的隨機數來初始化權重和方差\n",
        "        activation - 定義激活函數\n",
        "\"\"\"\n",
        "model.add(Dense(units = 9,\n",
        "                kernel_initializer = 'normal',\n",
        "                activation = 'softmax'))"
      ],
      "execution_count": 8,
      "outputs": []
    },
    {
      "cell_type": "code",
      "metadata": {
        "id": "CLeccMqETnoa",
        "colab": {
          "base_uri": "https://localhost:8080/"
        },
        "outputId": "862a5716-1930-4729-c63b-5d359496392e"
      },
      "source": [
        "print(model.summary())"
      ],
      "execution_count": 9,
      "outputs": [
        {
          "output_type": "stream",
          "text": [
            "Model: \"sequential\"\n",
            "_________________________________________________________________\n",
            "Layer (type)                 Output Shape              Param #   \n",
            "=================================================================\n",
            "dense (Dense)                (None, 224)               2688      \n",
            "_________________________________________________________________\n",
            "dropout (Dropout)            (None, 224)               0         \n",
            "_________________________________________________________________\n",
            "dense_1 (Dense)              (None, 9)                 2025      \n",
            "=================================================================\n",
            "Total params: 4,713\n",
            "Trainable params: 4,713\n",
            "Non-trainable params: 0\n",
            "_________________________________________________________________\n",
            "None\n"
          ],
          "name": "stdout"
        }
      ]
    },
    {
      "cell_type": "code",
      "metadata": {
        "id": "SBZ_8GWJT2_S"
      },
      "source": [
        "\"\"\"\n",
        "    定義訓練方式\n",
        "\n",
        "    參數：\n",
        "        loss - 損失函數： 這裏採用交叉熵的方式\n",
        "        optimizer - 優化器: 使用adam優化器可以讓訓練收斂更快\n",
        "        metrics - 評估模型：設置爲準確率\n",
        "\n",
        "\"\"\"\n",
        "model.compile(loss = 'categorical_crossentropy',  \n",
        "                     optimizer = 'adam', metrics = ['accuracy'])"
      ],
      "execution_count": 10,
      "outputs": []
    },
    {
      "cell_type": "code",
      "metadata": {
        "id": "P6EWF7T2ULQ6",
        "colab": {
          "base_uri": "https://localhost:8080/"
        },
        "outputId": "4f54278b-5210-454f-8313-ee935b537802"
      },
      "source": [
        "\"\"\"\n",
        "    開始訓練\n",
        "\n",
        "    參數：\n",
        "        X_train_normalize - feature數字圖像的特徵值\n",
        "        y_train_one_hot - 數字圖像的真實標籤\n",
        "        metrics - 評估模型：設置爲準確率\n",
        "        validation_spli - 訓練與驗證數據比例：80%用作訓練數據，20%用作驗證數據\n",
        "        epochs - 訓練週期\n",
        "        batch_size - 每批次的數據項數\n",
        "        verbose - 顯示訓練過程\n",
        "\"\"\"\n",
        "model.fit(x=x_train1D,y=y_train1D,validation_split=0.2,\n",
        "                          epochs=100,batch_size=2,verbose=1)"
      ],
      "execution_count": 11,
      "outputs": [
        {
          "output_type": "stream",
          "text": [
            "Epoch 1/100\n",
            "512/512 [==============================] - 1s 2ms/step - loss: 1.3639 - accuracy: 0.4194 - val_loss: 1.1932 - val_accuracy: 0.4336\n",
            "Epoch 2/100\n",
            "512/512 [==============================] - 1s 1ms/step - loss: 1.1762 - accuracy: 0.4194 - val_loss: 1.1688 - val_accuracy: 0.4688\n",
            "Epoch 3/100\n",
            "512/512 [==============================] - 1s 1ms/step - loss: 1.1744 - accuracy: 0.4457 - val_loss: 1.1737 - val_accuracy: 0.4766\n",
            "Epoch 4/100\n",
            "512/512 [==============================] - 1s 1ms/step - loss: 1.1710 - accuracy: 0.4545 - val_loss: 1.1505 - val_accuracy: 0.4922\n",
            "Epoch 5/100\n",
            "512/512 [==============================] - 1s 1ms/step - loss: 1.1719 - accuracy: 0.4545 - val_loss: 1.1605 - val_accuracy: 0.4844\n",
            "Epoch 6/100\n",
            "512/512 [==============================] - 1s 1ms/step - loss: 1.1696 - accuracy: 0.4604 - val_loss: 1.1614 - val_accuracy: 0.4688\n",
            "Epoch 7/100\n",
            "512/512 [==============================] - 1s 1ms/step - loss: 1.1623 - accuracy: 0.4692 - val_loss: 1.1630 - val_accuracy: 0.4648\n",
            "Epoch 8/100\n",
            "512/512 [==============================] - 1s 1ms/step - loss: 1.1677 - accuracy: 0.4643 - val_loss: 1.1657 - val_accuracy: 0.4844\n",
            "Epoch 9/100\n",
            "512/512 [==============================] - 1s 1ms/step - loss: 1.1620 - accuracy: 0.4897 - val_loss: 1.1640 - val_accuracy: 0.4844\n",
            "Epoch 10/100\n",
            "512/512 [==============================] - 1s 1ms/step - loss: 1.1573 - accuracy: 0.4761 - val_loss: 1.1535 - val_accuracy: 0.4844\n",
            "Epoch 11/100\n",
            "512/512 [==============================] - 1s 1ms/step - loss: 1.1542 - accuracy: 0.4712 - val_loss: 1.1572 - val_accuracy: 0.4766\n",
            "Epoch 12/100\n",
            "512/512 [==============================] - 1s 1ms/step - loss: 1.1675 - accuracy: 0.4721 - val_loss: 1.1477 - val_accuracy: 0.4766\n",
            "Epoch 13/100\n",
            "512/512 [==============================] - 1s 1ms/step - loss: 1.1523 - accuracy: 0.4653 - val_loss: 1.1497 - val_accuracy: 0.4805\n",
            "Epoch 14/100\n",
            "512/512 [==============================] - 1s 1ms/step - loss: 1.1514 - accuracy: 0.4848 - val_loss: 1.1460 - val_accuracy: 0.4805\n",
            "Epoch 15/100\n",
            "512/512 [==============================] - 1s 1ms/step - loss: 1.1539 - accuracy: 0.4702 - val_loss: 1.1445 - val_accuracy: 0.4922\n",
            "Epoch 16/100\n",
            "512/512 [==============================] - 1s 1ms/step - loss: 1.1534 - accuracy: 0.4819 - val_loss: 1.1636 - val_accuracy: 0.5000\n",
            "Epoch 17/100\n",
            "512/512 [==============================] - 1s 1ms/step - loss: 1.1472 - accuracy: 0.4800 - val_loss: 1.1463 - val_accuracy: 0.4922\n",
            "Epoch 18/100\n",
            "512/512 [==============================] - 1s 1ms/step - loss: 1.1524 - accuracy: 0.4848 - val_loss: 1.1518 - val_accuracy: 0.5039\n",
            "Epoch 19/100\n",
            "512/512 [==============================] - 1s 1ms/step - loss: 1.1432 - accuracy: 0.4702 - val_loss: 1.1687 - val_accuracy: 0.4727\n",
            "Epoch 20/100\n",
            "512/512 [==============================] - 1s 1ms/step - loss: 1.1460 - accuracy: 0.4888 - val_loss: 1.1709 - val_accuracy: 0.5078\n",
            "Epoch 21/100\n",
            "512/512 [==============================] - 1s 1ms/step - loss: 1.1458 - accuracy: 0.4819 - val_loss: 1.1620 - val_accuracy: 0.4766\n",
            "Epoch 22/100\n",
            "512/512 [==============================] - 1s 1ms/step - loss: 1.1497 - accuracy: 0.4751 - val_loss: 1.1540 - val_accuracy: 0.4961\n",
            "Epoch 23/100\n",
            "512/512 [==============================] - 1s 1ms/step - loss: 1.1495 - accuracy: 0.5005 - val_loss: 1.1745 - val_accuracy: 0.4648\n",
            "Epoch 24/100\n",
            "512/512 [==============================] - 1s 1ms/step - loss: 1.1522 - accuracy: 0.4790 - val_loss: 1.1535 - val_accuracy: 0.4961\n",
            "Epoch 25/100\n",
            "512/512 [==============================] - 1s 1ms/step - loss: 1.1486 - accuracy: 0.4995 - val_loss: 1.1486 - val_accuracy: 0.5000\n",
            "Epoch 26/100\n",
            "512/512 [==============================] - 1s 1ms/step - loss: 1.1514 - accuracy: 0.4633 - val_loss: 1.1438 - val_accuracy: 0.5000\n",
            "Epoch 27/100\n",
            "512/512 [==============================] - 1s 1ms/step - loss: 1.1455 - accuracy: 0.4907 - val_loss: 1.1539 - val_accuracy: 0.5039\n",
            "Epoch 28/100\n",
            "512/512 [==============================] - 1s 1ms/step - loss: 1.1393 - accuracy: 0.4976 - val_loss: 1.1521 - val_accuracy: 0.4922\n",
            "Epoch 29/100\n",
            "512/512 [==============================] - 1s 1ms/step - loss: 1.1382 - accuracy: 0.4858 - val_loss: 1.1469 - val_accuracy: 0.4844\n",
            "Epoch 30/100\n",
            "512/512 [==============================] - 1s 1ms/step - loss: 1.1463 - accuracy: 0.4907 - val_loss: 1.1454 - val_accuracy: 0.5000\n",
            "Epoch 31/100\n",
            "512/512 [==============================] - 1s 1ms/step - loss: 1.1443 - accuracy: 0.4888 - val_loss: 1.1415 - val_accuracy: 0.5039\n",
            "Epoch 32/100\n",
            "512/512 [==============================] - 1s 1ms/step - loss: 1.1321 - accuracy: 0.4976 - val_loss: 1.1659 - val_accuracy: 0.4961\n",
            "Epoch 33/100\n",
            "512/512 [==============================] - 1s 1ms/step - loss: 1.1364 - accuracy: 0.5073 - val_loss: 1.1506 - val_accuracy: 0.4961\n",
            "Epoch 34/100\n",
            "512/512 [==============================] - 1s 1ms/step - loss: 1.1317 - accuracy: 0.5005 - val_loss: 1.1340 - val_accuracy: 0.5117\n",
            "Epoch 35/100\n",
            "512/512 [==============================] - 1s 1ms/step - loss: 1.1342 - accuracy: 0.4976 - val_loss: 1.1461 - val_accuracy: 0.5195\n",
            "Epoch 36/100\n",
            "512/512 [==============================] - 1s 1ms/step - loss: 1.1385 - accuracy: 0.4936 - val_loss: 1.1491 - val_accuracy: 0.5000\n",
            "Epoch 37/100\n",
            "512/512 [==============================] - 1s 1ms/step - loss: 1.1365 - accuracy: 0.4848 - val_loss: 1.1691 - val_accuracy: 0.4961\n",
            "Epoch 38/100\n",
            "512/512 [==============================] - 1s 1ms/step - loss: 1.1354 - accuracy: 0.4927 - val_loss: 1.1461 - val_accuracy: 0.5000\n",
            "Epoch 39/100\n",
            "512/512 [==============================] - 1s 1ms/step - loss: 1.1311 - accuracy: 0.5024 - val_loss: 1.1346 - val_accuracy: 0.5039\n",
            "Epoch 40/100\n",
            "512/512 [==============================] - 1s 1ms/step - loss: 1.1335 - accuracy: 0.4985 - val_loss: 1.1547 - val_accuracy: 0.5039\n",
            "Epoch 41/100\n",
            "512/512 [==============================] - 1s 1ms/step - loss: 1.1348 - accuracy: 0.4936 - val_loss: 1.1233 - val_accuracy: 0.5195\n",
            "Epoch 42/100\n",
            "512/512 [==============================] - 1s 1ms/step - loss: 1.1254 - accuracy: 0.5015 - val_loss: 1.1382 - val_accuracy: 0.5195\n",
            "Epoch 43/100\n",
            "512/512 [==============================] - 1s 1ms/step - loss: 1.1214 - accuracy: 0.5122 - val_loss: 1.1328 - val_accuracy: 0.5039\n",
            "Epoch 44/100\n",
            "512/512 [==============================] - 1s 1ms/step - loss: 1.1220 - accuracy: 0.4917 - val_loss: 1.1498 - val_accuracy: 0.5039\n",
            "Epoch 45/100\n",
            "512/512 [==============================] - 1s 1ms/step - loss: 1.1221 - accuracy: 0.5073 - val_loss: 1.1204 - val_accuracy: 0.4922\n",
            "Epoch 46/100\n",
            "512/512 [==============================] - 1s 1ms/step - loss: 1.1176 - accuracy: 0.4966 - val_loss: 1.1259 - val_accuracy: 0.5078\n",
            "Epoch 47/100\n",
            "512/512 [==============================] - 1s 1ms/step - loss: 1.1229 - accuracy: 0.4946 - val_loss: 1.1282 - val_accuracy: 0.5273\n",
            "Epoch 48/100\n",
            "512/512 [==============================] - 1s 1ms/step - loss: 1.1159 - accuracy: 0.4917 - val_loss: 1.1244 - val_accuracy: 0.5352\n",
            "Epoch 49/100\n",
            "512/512 [==============================] - 1s 1ms/step - loss: 1.1154 - accuracy: 0.4985 - val_loss: 1.1211 - val_accuracy: 0.5352\n",
            "Epoch 50/100\n",
            "512/512 [==============================] - 1s 1ms/step - loss: 1.1111 - accuracy: 0.5054 - val_loss: 1.1166 - val_accuracy: 0.5039\n",
            "Epoch 51/100\n",
            "512/512 [==============================] - 1s 1ms/step - loss: 1.1173 - accuracy: 0.5024 - val_loss: 1.1208 - val_accuracy: 0.5078\n",
            "Epoch 52/100\n",
            "512/512 [==============================] - 1s 1ms/step - loss: 1.1132 - accuracy: 0.5181 - val_loss: 1.1073 - val_accuracy: 0.5391\n",
            "Epoch 53/100\n",
            "512/512 [==============================] - 1s 1ms/step - loss: 1.1145 - accuracy: 0.5083 - val_loss: 1.1268 - val_accuracy: 0.5312\n",
            "Epoch 54/100\n",
            "512/512 [==============================] - 1s 1ms/step - loss: 1.1116 - accuracy: 0.5044 - val_loss: 1.1132 - val_accuracy: 0.5117\n",
            "Epoch 55/100\n",
            "512/512 [==============================] - 1s 1ms/step - loss: 1.1171 - accuracy: 0.4995 - val_loss: 1.1068 - val_accuracy: 0.5000\n",
            "Epoch 56/100\n",
            "512/512 [==============================] - 1s 1ms/step - loss: 1.1066 - accuracy: 0.5054 - val_loss: 1.1086 - val_accuracy: 0.5156\n",
            "Epoch 57/100\n",
            "512/512 [==============================] - 1s 1ms/step - loss: 1.1104 - accuracy: 0.5239 - val_loss: 1.1052 - val_accuracy: 0.5352\n",
            "Epoch 58/100\n",
            "512/512 [==============================] - 1s 1ms/step - loss: 1.0974 - accuracy: 0.5093 - val_loss: 1.1363 - val_accuracy: 0.5039\n",
            "Epoch 59/100\n",
            "512/512 [==============================] - 1s 1ms/step - loss: 1.1017 - accuracy: 0.5122 - val_loss: 1.1194 - val_accuracy: 0.5273\n",
            "Epoch 60/100\n",
            "512/512 [==============================] - 1s 1ms/step - loss: 1.0984 - accuracy: 0.5142 - val_loss: 1.1275 - val_accuracy: 0.5156\n",
            "Epoch 61/100\n",
            "512/512 [==============================] - 1s 1ms/step - loss: 1.0957 - accuracy: 0.5210 - val_loss: 1.1352 - val_accuracy: 0.5000\n",
            "Epoch 62/100\n",
            "512/512 [==============================] - 1s 1ms/step - loss: 1.0974 - accuracy: 0.5122 - val_loss: 1.1130 - val_accuracy: 0.5234\n",
            "Epoch 63/100\n",
            "512/512 [==============================] - 1s 1ms/step - loss: 1.0921 - accuracy: 0.5112 - val_loss: 1.0916 - val_accuracy: 0.5547\n",
            "Epoch 64/100\n",
            "512/512 [==============================] - 1s 1ms/step - loss: 1.0975 - accuracy: 0.5181 - val_loss: 1.1044 - val_accuracy: 0.5234\n",
            "Epoch 65/100\n",
            "512/512 [==============================] - 1s 1ms/step - loss: 1.0910 - accuracy: 0.5122 - val_loss: 1.1121 - val_accuracy: 0.5234\n",
            "Epoch 66/100\n",
            "512/512 [==============================] - 1s 1ms/step - loss: 1.0788 - accuracy: 0.5415 - val_loss: 1.0977 - val_accuracy: 0.5430\n",
            "Epoch 67/100\n",
            "512/512 [==============================] - 1s 1ms/step - loss: 1.0900 - accuracy: 0.5191 - val_loss: 1.1041 - val_accuracy: 0.5430\n",
            "Epoch 68/100\n",
            "512/512 [==============================] - 1s 1ms/step - loss: 1.0867 - accuracy: 0.5249 - val_loss: 1.1286 - val_accuracy: 0.5078\n",
            "Epoch 69/100\n",
            "512/512 [==============================] - 1s 1ms/step - loss: 1.0785 - accuracy: 0.5171 - val_loss: 1.0792 - val_accuracy: 0.5664\n",
            "Epoch 70/100\n",
            "512/512 [==============================] - 1s 1ms/step - loss: 1.0759 - accuracy: 0.5191 - val_loss: 1.1158 - val_accuracy: 0.5273\n",
            "Epoch 71/100\n",
            "512/512 [==============================] - 1s 1ms/step - loss: 1.0733 - accuracy: 0.5279 - val_loss: 1.1006 - val_accuracy: 0.5234\n",
            "Epoch 72/100\n",
            "512/512 [==============================] - 1s 1ms/step - loss: 1.0735 - accuracy: 0.5200 - val_loss: 1.0867 - val_accuracy: 0.5508\n",
            "Epoch 73/100\n",
            "512/512 [==============================] - 1s 1ms/step - loss: 1.0675 - accuracy: 0.5298 - val_loss: 1.0930 - val_accuracy: 0.5625\n",
            "Epoch 74/100\n",
            "512/512 [==============================] - 1s 1ms/step - loss: 1.0677 - accuracy: 0.5259 - val_loss: 1.0975 - val_accuracy: 0.5234\n",
            "Epoch 75/100\n",
            "512/512 [==============================] - 1s 1ms/step - loss: 1.0698 - accuracy: 0.5288 - val_loss: 1.0706 - val_accuracy: 0.5586\n",
            "Epoch 76/100\n",
            "512/512 [==============================] - 1s 1ms/step - loss: 1.0671 - accuracy: 0.5318 - val_loss: 1.0752 - val_accuracy: 0.5664\n",
            "Epoch 77/100\n",
            "512/512 [==============================] - 1s 1ms/step - loss: 1.0662 - accuracy: 0.5132 - val_loss: 1.0889 - val_accuracy: 0.5625\n",
            "Epoch 78/100\n",
            "512/512 [==============================] - 1s 1ms/step - loss: 1.0634 - accuracy: 0.5386 - val_loss: 1.0680 - val_accuracy: 0.5586\n",
            "Epoch 79/100\n",
            "512/512 [==============================] - 1s 1ms/step - loss: 1.0645 - accuracy: 0.5386 - val_loss: 1.0683 - val_accuracy: 0.5664\n",
            "Epoch 80/100\n",
            "512/512 [==============================] - 1s 1ms/step - loss: 1.0591 - accuracy: 0.5445 - val_loss: 1.0637 - val_accuracy: 0.5859\n",
            "Epoch 81/100\n",
            "512/512 [==============================] - 1s 1ms/step - loss: 1.0661 - accuracy: 0.5337 - val_loss: 1.0636 - val_accuracy: 0.5625\n",
            "Epoch 82/100\n",
            "512/512 [==============================] - 1s 1ms/step - loss: 1.0609 - accuracy: 0.5386 - val_loss: 1.0827 - val_accuracy: 0.5586\n",
            "Epoch 83/100\n",
            "512/512 [==============================] - 1s 1ms/step - loss: 1.0445 - accuracy: 0.5347 - val_loss: 1.0627 - val_accuracy: 0.5586\n",
            "Epoch 84/100\n",
            "512/512 [==============================] - 1s 1ms/step - loss: 1.0460 - accuracy: 0.5396 - val_loss: 1.0881 - val_accuracy: 0.5664\n",
            "Epoch 85/100\n",
            "512/512 [==============================] - 1s 1ms/step - loss: 1.0613 - accuracy: 0.5386 - val_loss: 1.0794 - val_accuracy: 0.5703\n",
            "Epoch 86/100\n",
            "512/512 [==============================] - 1s 1ms/step - loss: 1.0505 - accuracy: 0.5435 - val_loss: 1.0829 - val_accuracy: 0.5703\n",
            "Epoch 87/100\n",
            "512/512 [==============================] - 1s 1ms/step - loss: 1.0649 - accuracy: 0.5386 - val_loss: 1.0766 - val_accuracy: 0.5547\n",
            "Epoch 88/100\n",
            "512/512 [==============================] - 1s 1ms/step - loss: 1.0483 - accuracy: 0.5503 - val_loss: 1.0626 - val_accuracy: 0.5703\n",
            "Epoch 89/100\n",
            "512/512 [==============================] - 1s 1ms/step - loss: 1.0429 - accuracy: 0.5376 - val_loss: 1.0569 - val_accuracy: 0.5781\n",
            "Epoch 90/100\n",
            "512/512 [==============================] - 1s 1ms/step - loss: 1.0456 - accuracy: 0.5327 - val_loss: 1.0518 - val_accuracy: 0.5664\n",
            "Epoch 91/100\n",
            "512/512 [==============================] - 1s 1ms/step - loss: 1.0365 - accuracy: 0.5513 - val_loss: 1.0738 - val_accuracy: 0.5742\n",
            "Epoch 92/100\n",
            "512/512 [==============================] - 1s 1ms/step - loss: 1.0367 - accuracy: 0.5415 - val_loss: 1.0714 - val_accuracy: 0.5703\n",
            "Epoch 93/100\n",
            "512/512 [==============================] - 1s 1ms/step - loss: 1.0401 - accuracy: 0.5435 - val_loss: 1.0572 - val_accuracy: 0.5703\n",
            "Epoch 94/100\n",
            "512/512 [==============================] - 1s 1ms/step - loss: 1.0369 - accuracy: 0.5464 - val_loss: 1.0459 - val_accuracy: 0.5664\n",
            "Epoch 95/100\n",
            "512/512 [==============================] - 1s 1ms/step - loss: 1.0258 - accuracy: 0.5591 - val_loss: 1.0394 - val_accuracy: 0.5703\n",
            "Epoch 96/100\n",
            "512/512 [==============================] - 1s 1ms/step - loss: 1.0320 - accuracy: 0.5543 - val_loss: 1.0396 - val_accuracy: 0.5742\n",
            "Epoch 97/100\n",
            "512/512 [==============================] - 1s 1ms/step - loss: 1.0216 - accuracy: 0.5679 - val_loss: 1.0434 - val_accuracy: 0.5664\n",
            "Epoch 98/100\n",
            "512/512 [==============================] - 1s 1ms/step - loss: 1.0381 - accuracy: 0.5464 - val_loss: 1.0401 - val_accuracy: 0.5742\n",
            "Epoch 99/100\n",
            "512/512 [==============================] - 1s 1ms/step - loss: 1.0234 - accuracy: 0.5582 - val_loss: 1.0410 - val_accuracy: 0.5664\n",
            "Epoch 100/100\n",
            "512/512 [==============================] - 1s 1ms/step - loss: 1.0270 - accuracy: 0.5630 - val_loss: 1.0836 - val_accuracy: 0.5586\n"
          ],
          "name": "stdout"
        },
        {
          "output_type": "execute_result",
          "data": {
            "text/plain": [
              "<tensorflow.python.keras.callbacks.History at 0x7fb41a845080>"
            ]
          },
          "metadata": {
            "tags": []
          },
          "execution_count": 11
        }
      ]
    },
    {
      "cell_type": "code",
      "metadata": {
        "id": "A38UpXEDWAo8",
        "colab": {
          "base_uri": "https://localhost:8080/"
        },
        "outputId": "02df1ce6-6502-4aae-c075-9c271d6eb601"
      },
      "source": [
        "# 評估模型的準確率\n",
        "scores = model.evaluate(x_test1D, y_test1D)\n",
        "print()\n",
        "print('accuracy=',scores[1])"
      ],
      "execution_count": 12,
      "outputs": [
        {
          "output_type": "stream",
          "text": [
            "10/10 [==============================] - 0s 1ms/step - loss: 1.0083 - accuracy: 0.6000\n",
            "\n",
            "accuracy= 0.6000000238418579\n"
          ],
          "name": "stdout"
        }
      ]
    },
    {
      "cell_type": "code",
      "metadata": {
        "id": "oGhTyuEb5OG8"
      },
      "source": [
        "y_predict = model.predict(x_test1D)"
      ],
      "execution_count": 13,
      "outputs": []
    },
    {
      "cell_type": "code",
      "metadata": {
        "colab": {
          "base_uri": "https://localhost:8080/"
        },
        "id": "GH8pXEQd5PLj",
        "outputId": "16e37a23-d53b-4327-819e-d6365791ac55"
      },
      "source": [
        "from sklearn import metrics\n",
        "\n",
        "metrics.mean_squared_error(y_test1D,y_predict)\n",
        "print('RMSE：', np.sqrt(metrics.mean_squared_error(y_test1D,y_predict)))"
      ],
      "execution_count": 14,
      "outputs": [
        {
          "output_type": "stream",
          "text": [
            "RMSE： 0.24696183\n"
          ],
          "name": "stdout"
        }
      ]
    },
    {
      "cell_type": "code",
      "metadata": {
        "id": "VgoFDVCuLS3R",
        "colab": {
          "base_uri": "https://localhost:8080/"
        },
        "outputId": "269b4d87-6704-4706-b137-5bba477a0d0e"
      },
      "source": [
        "def mape(y_test, y_predict):\n",
        "    return np.mean(np.abs((y_predict - y_test1D) / (y_test1D +1))) * 100\n",
        "print('MAPE:',mape(y_test1D, y_predict))"
      ],
      "execution_count": 15,
      "outputs": [
        {
          "output_type": "stream",
          "text": [
            "MAPE: 9.591542184352875\n"
          ],
          "name": "stdout"
        }
      ]
    }
  ]
}