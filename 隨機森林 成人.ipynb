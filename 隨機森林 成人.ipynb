{
 "cells": [
  {
   "cell_type": "code",
   "execution_count": 1,
   "metadata": {},
   "outputs": [],
   "source": [
    "import pandas as pd\n",
    "import numpy as np\n",
    "from sklearn import datasets\n",
    "from sklearn.ensemble import RandomForestClassifier"
   ]
  },
  {
   "cell_type": "code",
   "execution_count": 3,
   "metadata": {},
   "outputs": [],
   "source": [
    "df=pd.read_csv(r'C:\\Users\\ASUS\\Desktop\\資料探勘\\資料探勘第二次作業\\adult.train1.csv')\n",
    "df1=pd.read_csv(r'C:\\Users\\ASUS\\Desktop\\資料探勘\\資料探勘第二次作業\\adult.test1.csv')"
   ]
  },
  {
   "cell_type": "code",
   "execution_count": 30,
   "metadata": {},
   "outputs": [],
   "source": [
    "y_test=df1['hours_per_week']\n",
    "x_test=df1.drop('hours_per_week',axis=1)"
   ]
  },
  {
   "cell_type": "code",
   "execution_count": 31,
   "metadata": {},
   "outputs": [],
   "source": [
    "y_train=df['hours_per_week']\n",
    "x_train=df.drop('hours_per_week',axis=1)"
   ]
  },
  {
   "cell_type": "code",
   "execution_count": 32,
   "metadata": {},
   "outputs": [
    {
     "data": {
      "text/plain": [
       "RandomForestClassifier()"
      ]
     },
     "execution_count": 32,
     "metadata": {},
     "output_type": "execute_result"
    }
   ],
   "source": [
    "from sklearn import model_selection\n",
    "rfc = RandomForestClassifier()\n",
    "rfc.fit(x_train,y_train)"
   ]
  },
  {
   "cell_type": "code",
   "execution_count": 33,
   "metadata": {},
   "outputs": [],
   "source": [
    "rfc=RandomForestClassifier(n_estimators=96,n_jobs = -1, min_samples_leaf = 10)"
   ]
  },
  {
   "cell_type": "code",
   "execution_count": 34,
   "metadata": {},
   "outputs": [
    {
     "data": {
      "text/plain": [
       "RandomForestClassifier(min_samples_leaf=10, n_estimators=96, n_jobs=-1)"
      ]
     },
     "execution_count": 34,
     "metadata": {},
     "output_type": "execute_result"
    }
   ],
   "source": [
    "rfc.fit(x_test,y_test)"
   ]
  },
  {
   "cell_type": "code",
   "execution_count": 36,
   "metadata": {},
   "outputs": [],
   "source": [
    "y_pred = rfc.predict(x_test)"
   ]
  },
  {
   "cell_type": "code",
   "execution_count": 37,
   "metadata": {},
   "outputs": [
    {
     "name": "stdout",
     "output_type": "stream",
     "text": [
      "RMSE： 11.806657539257953\n"
     ]
    }
   ],
   "source": [
    "from sklearn import metrics\n",
    "\n",
    "metrics.mean_squared_error(y_test, y_pred)\n",
    "print('RMSE：',np.sqrt(metrics.mean_squared_error(y_test,y_pred)))"
   ]
  },
  {
   "cell_type": "code",
   "execution_count": 38,
   "metadata": {},
   "outputs": [
    {
     "name": "stdout",
     "output_type": "stream",
     "text": [
      "MAPE: 31.899302250257428\n"
     ]
    }
   ],
   "source": [
    "def mape(y_test, y_pred):\n",
    "    return np.mean(np.abs((y_pred - y_test) / y_test)) * 100\n",
    "print('MAPE:',mape(y_test, y_pred))"
   ]
  },
  {
   "cell_type": "code",
   "execution_count": 39,
   "metadata": {},
   "outputs": [
    {
     "name": "stdout",
     "output_type": "stream",
     "text": [
      "資料屬性為： age               int64\n",
      "workclass         int64\n",
      "fnlwgt            int64\n",
      "education         int64\n",
      "education_num     int64\n",
      "marital_status    int64\n",
      "occupation        int64\n",
      "relationship      int64\n",
      "race              int64\n",
      "sex               int64\n",
      "capital_gain      int64\n",
      "capital_loss      int64\n",
      "hours_per_week    int64\n",
      "native_country    int64\n",
      "salary            int64\n",
      "dtype: object\n"
     ]
    }
   ],
   "source": [
    "print('資料屬性為：',df1.dtypes)"
   ]
  },
  {
   "cell_type": "code",
   "execution_count": null,
   "metadata": {},
   "outputs": [],
   "source": []
  }
 ],
 "metadata": {
  "kernelspec": {
   "display_name": "Python 3",
   "language": "python",
   "name": "python3"
  },
  "language_info": {
   "codemirror_mode": {
    "name": "ipython",
    "version": 3
   },
   "file_extension": ".py",
   "mimetype": "text/x-python",
   "name": "python",
   "nbconvert_exporter": "python",
   "pygments_lexer": "ipython3",
   "version": "3.8.5"
  }
 },
 "nbformat": 4,
 "nbformat_minor": 4
}
